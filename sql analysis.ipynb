{
  "nbformat": 4,
  "nbformat_minor": 0,
  "metadata": {
    "colab": {
      "name": "Machine-Learning.ipynb",
      "provenance": [],
      "collapsed_sections": []
    },
    "kernelspec": {
      "name": "python3",
      "display_name": "Python 3"
    },
    "accelerator": "GPU"
  },
  "cells": [
    {
      "cell_type": "code",
      "metadata": {
        "id": "Wg3Cpwpi2Wvb",
        "colab_type": "code",
        "colab": {}
      },
      "source": [
        "import matplotlib.pyplot as plt\n",
        "import numpy as np\n",
        "import pandas as pd\n",
        "import pandas as pd"
      ],
      "execution_count": null,
      "outputs": []
    },
    {
      "cell_type": "code",
      "metadata": {
        "id": "VyFrCntflbml",
        "colab_type": "code",
        "colab": {
          "base_uri": "https://localhost:8080/",
          "height": 185
        },
        "outputId": "f3dd3c74-6dc9-4339-862a-0b45da5d38d5"
      },
      "source": [
        "!pip install ibm_db"
      ],
      "execution_count": null,
      "outputs": [
        {
          "output_type": "stream",
          "text": [
            "Collecting ibm_db\n",
            "\u001b[?25l  Downloading https://files.pythonhosted.org/packages/6f/4e/48bf113d4f14b20a5008ea9f7784654041d8f7730c1081b370f569d80c93/ibm_db-3.0.2.tar.gz (718kB)\n",
            "\r\u001b[K     |▌                               | 10kB 27.6MB/s eta 0:00:01\r\u001b[K     |█                               | 20kB 3.0MB/s eta 0:00:01\r\u001b[K     |█▍                              | 30kB 3.7MB/s eta 0:00:01\r\u001b[K     |█▉                              | 40kB 3.6MB/s eta 0:00:01\r\u001b[K     |██▎                             | 51kB 3.5MB/s eta 0:00:01\r\u001b[K     |██▊                             | 61kB 3.8MB/s eta 0:00:01\r\u001b[K     |███▏                            | 71kB 4.3MB/s eta 0:00:01\r\u001b[K     |███▋                            | 81kB 4.7MB/s eta 0:00:01\r\u001b[K     |████                            | 92kB 4.8MB/s eta 0:00:01\r\u001b[K     |████▋                           | 102kB 4.7MB/s eta 0:00:01\r\u001b[K     |█████                           | 112kB 4.7MB/s eta 0:00:01\r\u001b[K     |█████▌                          | 122kB 4.7MB/s eta 0:00:01\r\u001b[K     |██████                          | 133kB 4.7MB/s eta 0:00:01\r\u001b[K     |██████▍                         | 143kB 4.7MB/s eta 0:00:01\r\u001b[K     |██████▉                         | 153kB 4.7MB/s eta 0:00:01\r\u001b[K     |███████▎                        | 163kB 4.7MB/s eta 0:00:01\r\u001b[K     |███████▊                        | 174kB 4.7MB/s eta 0:00:01\r\u001b[K     |████████▏                       | 184kB 4.7MB/s eta 0:00:01\r\u001b[K     |████████▋                       | 194kB 4.7MB/s eta 0:00:01\r\u001b[K     |█████████▏                      | 204kB 4.7MB/s eta 0:00:01\r\u001b[K     |█████████▋                      | 215kB 4.7MB/s eta 0:00:01\r\u001b[K     |██████████                      | 225kB 4.7MB/s eta 0:00:01\r\u001b[K     |██████████▌                     | 235kB 4.7MB/s eta 0:00:01\r\u001b[K     |███████████                     | 245kB 4.7MB/s eta 0:00:01\r\u001b[K     |███████████▍                    | 256kB 4.7MB/s eta 0:00:01\r\u001b[K     |███████████▉                    | 266kB 4.7MB/s eta 0:00:01\r\u001b[K     |████████████▎                   | 276kB 4.7MB/s eta 0:00:01\r\u001b[K     |████████████▊                   | 286kB 4.7MB/s eta 0:00:01\r\u001b[K     |█████████████▎                  | 296kB 4.7MB/s eta 0:00:01\r\u001b[K     |█████████████▊                  | 307kB 4.7MB/s eta 0:00:01\r\u001b[K     |██████████████▏                 | 317kB 4.7MB/s eta 0:00:01\r\u001b[K     |██████████████▋                 | 327kB 4.7MB/s eta 0:00:01\r\u001b[K     |███████████████                 | 337kB 4.7MB/s eta 0:00:01\r\u001b[K     |███████████████▌                | 348kB 4.7MB/s eta 0:00:01\r\u001b[K     |████████████████                | 358kB 4.7MB/s eta 0:00:01\r\u001b[K     |████████████████▍               | 368kB 4.7MB/s eta 0:00:01\r\u001b[K     |████████████████▉               | 378kB 4.7MB/s eta 0:00:01\r\u001b[K     |█████████████████▎              | 389kB 4.7MB/s eta 0:00:01\r\u001b[K     |█████████████████▉              | 399kB 4.7MB/s eta 0:00:01\r\u001b[K     |██████████████████▎             | 409kB 4.7MB/s eta 0:00:01\r\u001b[K     |██████████████████▊             | 419kB 4.7MB/s eta 0:00:01\r\u001b[K     |███████████████████▏            | 430kB 4.7MB/s eta 0:00:01\r\u001b[K     |███████████████████▋            | 440kB 4.7MB/s eta 0:00:01\r\u001b[K     |████████████████████            | 450kB 4.7MB/s eta 0:00:01\r\u001b[K     |████████████████████▌           | 460kB 4.7MB/s eta 0:00:01\r\u001b[K     |█████████████████████           | 471kB 4.7MB/s eta 0:00:01\r\u001b[K     |█████████████████████▍          | 481kB 4.7MB/s eta 0:00:01\r\u001b[K     |██████████████████████          | 491kB 4.7MB/s eta 0:00:01\r\u001b[K     |██████████████████████▍         | 501kB 4.7MB/s eta 0:00:01\r\u001b[K     |██████████████████████▉         | 512kB 4.7MB/s eta 0:00:01\r\u001b[K     |███████████████████████▎        | 522kB 4.7MB/s eta 0:00:01\r\u001b[K     |███████████████████████▊        | 532kB 4.7MB/s eta 0:00:01\r\u001b[K     |████████████████████████▏       | 542kB 4.7MB/s eta 0:00:01\r\u001b[K     |████████████████████████▋       | 552kB 4.7MB/s eta 0:00:01\r\u001b[K     |█████████████████████████       | 563kB 4.7MB/s eta 0:00:01\r\u001b[K     |█████████████████████████▌      | 573kB 4.7MB/s eta 0:00:01\r\u001b[K     |██████████████████████████      | 583kB 4.7MB/s eta 0:00:01\r\u001b[K     |██████████████████████████▌     | 593kB 4.7MB/s eta 0:00:01\r\u001b[K     |███████████████████████████     | 604kB 4.7MB/s eta 0:00:01\r\u001b[K     |███████████████████████████▍    | 614kB 4.7MB/s eta 0:00:01\r\u001b[K     |███████████████████████████▉    | 624kB 4.7MB/s eta 0:00:01\r\u001b[K     |████████████████████████████▎   | 634kB 4.7MB/s eta 0:00:01\r\u001b[K     |████████████████████████████▊   | 645kB 4.7MB/s eta 0:00:01\r\u001b[K     |█████████████████████████████▏  | 655kB 4.7MB/s eta 0:00:01\r\u001b[K     |█████████████████████████████▋  | 665kB 4.7MB/s eta 0:00:01\r\u001b[K     |██████████████████████████████  | 675kB 4.7MB/s eta 0:00:01\r\u001b[K     |██████████████████████████████▋ | 686kB 4.7MB/s eta 0:00:01\r\u001b[K     |███████████████████████████████ | 696kB 4.7MB/s eta 0:00:01\r\u001b[K     |███████████████████████████████▌| 706kB 4.7MB/s eta 0:00:01\r\u001b[K     |████████████████████████████████| 716kB 4.7MB/s eta 0:00:01\r\u001b[K     |████████████████████████████████| 727kB 4.7MB/s \n",
            "\u001b[?25hBuilding wheels for collected packages: ibm-db\n",
            "  Building wheel for ibm-db (setup.py) ... \u001b[?25l\u001b[?25hdone\n",
            "  Created wheel for ibm-db: filename=ibm_db-3.0.2-cp36-cp36m-linux_x86_64.whl size=38977337 sha256=686910a76164ed4e868ac6c02c49a9aa57db1347a7e62a7d90c9b5bd92ce9522\n",
            "  Stored in directory: /root/.cache/pip/wheels/84/64/42/10b217b545e8085b72160632c61bfa0909f661dad89326a956\n",
            "Successfully built ibm-db\n",
            "Installing collected packages: ibm-db\n",
            "Successfully installed ibm-db-3.0.2\n"
          ],
          "name": "stdout"
        }
      ]
    },
    {
      "cell_type": "code",
      "metadata": {
        "id": "pTvkGb6fli8A",
        "colab_type": "code",
        "colab": {}
      },
      "source": [
        "import ibm_db"
      ],
      "execution_count": null,
      "outputs": []
    },
    {
      "cell_type": "code",
      "metadata": {
        "id": "-mMYFKsCJj9b",
        "colab_type": "code",
        "colab": {}
      },
      "source": [
        "dsn_hostname = \"dashdb-txn-sbox-yp-lon02-04.services.eu-gb.bluemix.net\" # e.g.: \"dashdb-txn-sbox-yp-dal09-04.services.dal.bluemix.net\"\n",
        "dsn_uid = \"bmt70440\"        # e.g. \"abc12345\"\n",
        "dsn_pwd = \"k54tm9n1rbnmb@dd\"      # e.g. \"7dBZ3wWt9XN6$o0J\"\n",
        "\n",
        "dsn_driver = \"{IBM DB2 ODBC DRIVER}\"\n",
        "dsn_database = \"BLUDB\"            # e.g. \"BLUDB\"\n",
        "dsn_port = \"50000\"                # e.g. \"50000\" \n",
        "dsn_protocol = \"TCPIP\"   "
      ],
      "execution_count": null,
      "outputs": []
    },
    {
      "cell_type": "code",
      "metadata": {
        "id": "gF3C6RNTkj49",
        "colab_type": "code",
        "colab": {
          "base_uri": "https://localhost:8080/",
          "height": 34
        },
        "outputId": "606e2ad3-7ba5-40df-9f06-889526530438"
      },
      "source": [
        "dsn = (\n",
        "    \"DRIVER={0};\"\n",
        "    \"DATABASE={1};\"\n",
        "    \"HOSTNAME={2};\"\n",
        "    \"PORT={3};\"\n",
        "    \"PROTOCOL={4};\"\n",
        "    \"UID={5};\"\n",
        "    \"PWD={6};\").format(dsn_driver, dsn_database, dsn_hostname, dsn_port, dsn_protocol, dsn_uid, dsn_pwd)\n",
        "\n",
        "#print the connection string to check correct values are specified\n",
        "print(dsn)"
      ],
      "execution_count": null,
      "outputs": [
        {
          "output_type": "stream",
          "text": [
            "DRIVER={IBM DB2 ODBC DRIVER};DATABASE=BLUDB;HOSTNAME=dashdb-txn-sbox-yp-lon02-04.services.eu-gb.bluemix.net;PORT=50000;PROTOCOL=TCPIP;UID=bmt70440;PWD=k54tm9n1rbnmb@dd;\n"
          ],
          "name": "stdout"
        }
      ]
    },
    {
      "cell_type": "code",
      "metadata": {
        "id": "UvsuKfjVkk2Y",
        "colab_type": "code",
        "colab": {
          "base_uri": "https://localhost:8080/",
          "height": 34
        },
        "outputId": "82458e4a-70e5-4200-8dc5-311d8fd25989"
      },
      "source": [
        "try:\n",
        "    conn = ibm_db.connect(dsn, \"\", \"\")\n",
        "    print (\"Connected to database: \", dsn_database, \"as user: \", dsn_uid, \"on host: \", dsn_hostname)\n",
        "\n",
        "except:\n",
        "    print (\"Unable to connect: \", ibm_db.conn_errormsg() )"
      ],
      "execution_count": null,
      "outputs": [
        {
          "output_type": "stream",
          "text": [
            "Connected to database:  BLUDB as user:  bmt70440 on host:  dashdb-txn-sbox-yp-lon02-04.services.eu-gb.bluemix.net\n"
          ],
          "name": "stdout"
        }
      ]
    },
    {
      "cell_type": "code",
      "metadata": {
        "id": "w9j5S4ToKBHh",
        "colab_type": "code",
        "colab": {}
      },
      "source": [
        "import pandas as pd\n",
        "import ibm_db_dbi"
      ],
      "execution_count": null,
      "outputs": []
    },
    {
      "cell_type": "code",
      "metadata": {
        "id": "3woVfNe9HO2s",
        "colab_type": "code",
        "colab": {}
      },
      "source": [
        "pconn1 = ibm_db_dbi.Connection(conn)"
      ],
      "execution_count": null,
      "outputs": []
    },
    {
      "cell_type": "code",
      "metadata": {
        "id": "b_clhAn7GpGC",
        "colab_type": "code",
        "colab": {}
      },
      "source": [
        "selectQuery1 = \"select count(*) from CRIME\"\n",
        "df1 = pd.read_sql(selectQuery1, pconn1)"
      ],
      "execution_count": null,
      "outputs": []
    },
    {
      "cell_type": "code",
      "metadata": {
        "id": "Go_348cyGzcz",
        "colab_type": "code",
        "colab": {
          "base_uri": "https://localhost:8080/",
          "height": 34
        },
        "outputId": "b3324247-7718-4045-c00b-658f2969659c"
      },
      "source": [
        "#Find the total number of crimes recorded in the crime table\n",
        "np.array(df1)"
      ],
      "execution_count": null,
      "outputs": [
        {
          "output_type": "execute_result",
          "data": {
            "text/plain": [
              "array([[533.]])"
            ]
          },
          "metadata": {
            "tags": []
          },
          "execution_count": 25
        }
      ]
    },
    {
      "cell_type": "code",
      "metadata": {
        "id": "4Tolo9yAUgR-",
        "colab_type": "code",
        "colab": {}
      },
      "source": [
        "selectQuery2 = \"select * from CRIME LIMIT 10\"\n",
        "df2 = pd.read_sql(selectQuery2, pconn1)"
      ],
      "execution_count": null,
      "outputs": []
    },
    {
      "cell_type": "code",
      "metadata": {
        "id": "gJfirDO8U11p",
        "colab_type": "code",
        "colab": {
          "base_uri": "https://localhost:8080/",
          "height": 632
        },
        "outputId": "93ef0e7e-7ae4-4eda-804b-fc6c893bd3e2"
      },
      "source": [
        "# Retrieve first 10 rows from the CRIME table\n",
        "df2"
      ],
      "execution_count": null,
      "outputs": [
        {
          "output_type": "execute_result",
          "data": {
            "text/html": [
              "<div>\n",
              "<style scoped>\n",
              "    .dataframe tbody tr th:only-of-type {\n",
              "        vertical-align: middle;\n",
              "    }\n",
              "\n",
              "    .dataframe tbody tr th {\n",
              "        vertical-align: top;\n",
              "    }\n",
              "\n",
              "    .dataframe thead th {\n",
              "        text-align: right;\n",
              "    }\n",
              "</style>\n",
              "<table border=\"1\" class=\"dataframe\">\n",
              "  <thead>\n",
              "    <tr style=\"text-align: right;\">\n",
              "      <th></th>\n",
              "      <th>ID</th>\n",
              "      <th>CASE_NUMBER</th>\n",
              "      <th>BLOCK</th>\n",
              "      <th>IUCR</th>\n",
              "      <th>PRIMARY_TYPE</th>\n",
              "      <th>DESCRIPTION</th>\n",
              "      <th>LOCATION_DESCRIPTION</th>\n",
              "      <th>ARREST</th>\n",
              "      <th>DOMESTIC</th>\n",
              "      <th>BEAT</th>\n",
              "      <th>DISTRICT</th>\n",
              "      <th>WARD</th>\n",
              "      <th>COMMUNITY_AREA_NUMBER</th>\n",
              "      <th>FBICODE</th>\n",
              "      <th>X_COORDINATE</th>\n",
              "      <th>Y_COORDINATE</th>\n",
              "      <th>YEAR</th>\n",
              "      <th>LATITUDE</th>\n",
              "      <th>LONGITUDE</th>\n",
              "      <th>LOCATION</th>\n",
              "    </tr>\n",
              "  </thead>\n",
              "  <tbody>\n",
              "    <tr>\n",
              "      <th>0</th>\n",
              "      <td>3512276</td>\n",
              "      <td>HK587712</td>\n",
              "      <td>047XX S KEDZIE AVE</td>\n",
              "      <td>890</td>\n",
              "      <td>THEFT</td>\n",
              "      <td>FROM BUILDING</td>\n",
              "      <td>SMALL RETAIL STORE</td>\n",
              "      <td>FALSE</td>\n",
              "      <td>FALSE</td>\n",
              "      <td>911</td>\n",
              "      <td>9</td>\n",
              "      <td>14</td>\n",
              "      <td>58</td>\n",
              "      <td>6</td>\n",
              "      <td>1155838</td>\n",
              "      <td>1873050</td>\n",
              "      <td>2004</td>\n",
              "      <td>41.807440</td>\n",
              "      <td>-87.703956</td>\n",
              "      <td>(41.8074405, -87.703955849)</td>\n",
              "    </tr>\n",
              "    <tr>\n",
              "      <th>1</th>\n",
              "      <td>3406613</td>\n",
              "      <td>HK456306</td>\n",
              "      <td>009XX N CENTRAL PARK AVE</td>\n",
              "      <td>820</td>\n",
              "      <td>THEFT</td>\n",
              "      <td>$500 AND UNDER</td>\n",
              "      <td>OTHER</td>\n",
              "      <td>FALSE</td>\n",
              "      <td>FALSE</td>\n",
              "      <td>1112</td>\n",
              "      <td>11</td>\n",
              "      <td>27</td>\n",
              "      <td>23</td>\n",
              "      <td>6</td>\n",
              "      <td>1152206</td>\n",
              "      <td>1906127</td>\n",
              "      <td>2004</td>\n",
              "      <td>41.898280</td>\n",
              "      <td>-87.716406</td>\n",
              "      <td>(41.898279962, -87.716405505)</td>\n",
              "    </tr>\n",
              "    <tr>\n",
              "      <th>2</th>\n",
              "      <td>8002131</td>\n",
              "      <td>HT233595</td>\n",
              "      <td>043XX S WABASH AVE</td>\n",
              "      <td>820</td>\n",
              "      <td>THEFT</td>\n",
              "      <td>$500 AND UNDER</td>\n",
              "      <td>NURSING HOME/RETIREMENT HOME</td>\n",
              "      <td>FALSE</td>\n",
              "      <td>FALSE</td>\n",
              "      <td>221</td>\n",
              "      <td>2</td>\n",
              "      <td>3</td>\n",
              "      <td>38</td>\n",
              "      <td>6</td>\n",
              "      <td>1177436</td>\n",
              "      <td>1876313</td>\n",
              "      <td>2011</td>\n",
              "      <td>41.815933</td>\n",
              "      <td>-87.624642</td>\n",
              "      <td>(41.815933131, -87.624642127)</td>\n",
              "    </tr>\n",
              "    <tr>\n",
              "      <th>3</th>\n",
              "      <td>7903289</td>\n",
              "      <td>HT133522</td>\n",
              "      <td>083XX S KINGSTON AVE</td>\n",
              "      <td>840</td>\n",
              "      <td>THEFT</td>\n",
              "      <td>FINANCIAL ID THEFT: OVER $300</td>\n",
              "      <td>RESIDENCE</td>\n",
              "      <td>FALSE</td>\n",
              "      <td>FALSE</td>\n",
              "      <td>423</td>\n",
              "      <td>4</td>\n",
              "      <td>7</td>\n",
              "      <td>46</td>\n",
              "      <td>6</td>\n",
              "      <td>1194622</td>\n",
              "      <td>1850125</td>\n",
              "      <td>2010</td>\n",
              "      <td>41.743665</td>\n",
              "      <td>-87.562463</td>\n",
              "      <td>(41.743665322, -87.562462756)</td>\n",
              "    </tr>\n",
              "    <tr>\n",
              "      <th>4</th>\n",
              "      <td>10402076</td>\n",
              "      <td>HZ138551</td>\n",
              "      <td>033XX W 66TH ST</td>\n",
              "      <td>820</td>\n",
              "      <td>THEFT</td>\n",
              "      <td>$500 AND UNDER</td>\n",
              "      <td>ALLEY</td>\n",
              "      <td>FALSE</td>\n",
              "      <td>FALSE</td>\n",
              "      <td>831</td>\n",
              "      <td>8</td>\n",
              "      <td>15</td>\n",
              "      <td>66</td>\n",
              "      <td>6</td>\n",
              "      <td>1155240</td>\n",
              "      <td>1860661</td>\n",
              "      <td>2016</td>\n",
              "      <td>41.773455</td>\n",
              "      <td>-87.706480</td>\n",
              "      <td>(41.773455295, -87.706480471)</td>\n",
              "    </tr>\n",
              "    <tr>\n",
              "      <th>5</th>\n",
              "      <td>7732712</td>\n",
              "      <td>HS540106</td>\n",
              "      <td>006XX W CHICAGO AVE</td>\n",
              "      <td>810</td>\n",
              "      <td>THEFT</td>\n",
              "      <td>OVER $500</td>\n",
              "      <td>PARKING LOT/GARAGE(NON.RESID.)</td>\n",
              "      <td>FALSE</td>\n",
              "      <td>FALSE</td>\n",
              "      <td>1323</td>\n",
              "      <td>12</td>\n",
              "      <td>27</td>\n",
              "      <td>24</td>\n",
              "      <td>6</td>\n",
              "      <td>1171668</td>\n",
              "      <td>1905607</td>\n",
              "      <td>2010</td>\n",
              "      <td>41.896447</td>\n",
              "      <td>-87.644939</td>\n",
              "      <td>(41.896446772, -87.644938678)</td>\n",
              "    </tr>\n",
              "    <tr>\n",
              "      <th>6</th>\n",
              "      <td>10769475</td>\n",
              "      <td>HZ534771</td>\n",
              "      <td>050XX N KEDZIE AVE</td>\n",
              "      <td>810</td>\n",
              "      <td>THEFT</td>\n",
              "      <td>OVER $500</td>\n",
              "      <td>STREET</td>\n",
              "      <td>FALSE</td>\n",
              "      <td>FALSE</td>\n",
              "      <td>1713</td>\n",
              "      <td>17</td>\n",
              "      <td>33</td>\n",
              "      <td>14</td>\n",
              "      <td>6</td>\n",
              "      <td>1154133</td>\n",
              "      <td>1933314</td>\n",
              "      <td>2016</td>\n",
              "      <td>41.972845</td>\n",
              "      <td>-87.708600</td>\n",
              "      <td>(41.972844913, -87.708600079)</td>\n",
              "    </tr>\n",
              "    <tr>\n",
              "      <th>7</th>\n",
              "      <td>4494340</td>\n",
              "      <td>HL793243</td>\n",
              "      <td>005XX E PERSHING RD</td>\n",
              "      <td>860</td>\n",
              "      <td>THEFT</td>\n",
              "      <td>RETAIL THEFT</td>\n",
              "      <td>GROCERY FOOD STORE</td>\n",
              "      <td>TRUE</td>\n",
              "      <td>FALSE</td>\n",
              "      <td>213</td>\n",
              "      <td>2</td>\n",
              "      <td>3</td>\n",
              "      <td>38</td>\n",
              "      <td>6</td>\n",
              "      <td>1180448</td>\n",
              "      <td>1879234</td>\n",
              "      <td>2005</td>\n",
              "      <td>41.823880</td>\n",
              "      <td>-87.613504</td>\n",
              "      <td>(41.823879885, -87.613503857)</td>\n",
              "    </tr>\n",
              "    <tr>\n",
              "      <th>8</th>\n",
              "      <td>3778925</td>\n",
              "      <td>HL149610</td>\n",
              "      <td>100XX S WASHTENAW AVE</td>\n",
              "      <td>810</td>\n",
              "      <td>THEFT</td>\n",
              "      <td>OVER $500</td>\n",
              "      <td>STREET</td>\n",
              "      <td>FALSE</td>\n",
              "      <td>FALSE</td>\n",
              "      <td>2211</td>\n",
              "      <td>22</td>\n",
              "      <td>19</td>\n",
              "      <td>72</td>\n",
              "      <td>6</td>\n",
              "      <td>1160129</td>\n",
              "      <td>1838040</td>\n",
              "      <td>2005</td>\n",
              "      <td>41.711281</td>\n",
              "      <td>-87.689179</td>\n",
              "      <td>(41.711280513, -87.689179097)</td>\n",
              "    </tr>\n",
              "    <tr>\n",
              "      <th>9</th>\n",
              "      <td>3324217</td>\n",
              "      <td>HK361551</td>\n",
              "      <td>033XX W BELMONT AVE</td>\n",
              "      <td>820</td>\n",
              "      <td>THEFT</td>\n",
              "      <td>$500 AND UNDER</td>\n",
              "      <td>SMALL RETAIL STORE</td>\n",
              "      <td>FALSE</td>\n",
              "      <td>FALSE</td>\n",
              "      <td>1733</td>\n",
              "      <td>17</td>\n",
              "      <td>35</td>\n",
              "      <td>21</td>\n",
              "      <td>6</td>\n",
              "      <td>1153590</td>\n",
              "      <td>1921084</td>\n",
              "      <td>2004</td>\n",
              "      <td>41.939296</td>\n",
              "      <td>-87.710923</td>\n",
              "      <td>(41.939295821, -87.710923442)</td>\n",
              "    </tr>\n",
              "  </tbody>\n",
              "</table>\n",
              "</div>"
            ],
            "text/plain": [
              "         ID CASE_NUMBER  ...  LONGITUDE                       LOCATION\n",
              "0   3512276    HK587712  ... -87.703956    (41.8074405, -87.703955849)\n",
              "1   3406613    HK456306  ... -87.716406  (41.898279962, -87.716405505)\n",
              "2   8002131    HT233595  ... -87.624642  (41.815933131, -87.624642127)\n",
              "3   7903289    HT133522  ... -87.562463  (41.743665322, -87.562462756)\n",
              "4  10402076    HZ138551  ... -87.706480  (41.773455295, -87.706480471)\n",
              "5   7732712    HS540106  ... -87.644939  (41.896446772, -87.644938678)\n",
              "6  10769475    HZ534771  ... -87.708600  (41.972844913, -87.708600079)\n",
              "7   4494340    HL793243  ... -87.613504  (41.823879885, -87.613503857)\n",
              "8   3778925    HL149610  ... -87.689179  (41.711280513, -87.689179097)\n",
              "9   3324217    HK361551  ... -87.710923  (41.939295821, -87.710923442)\n",
              "\n",
              "[10 rows x 20 columns]"
            ]
          },
          "metadata": {
            "tags": []
          },
          "execution_count": 28
        }
      ]
    },
    {
      "cell_type": "code",
      "metadata": {
        "id": "W1xFPDKJWT17",
        "colab_type": "code",
        "colab": {}
      },
      "source": [
        "selectQuery3 = \"select count(*) from CRIME where ARREST = TRUE\"\n",
        "df3 = pd.read_sql(selectQuery3, pconn1)"
      ],
      "execution_count": null,
      "outputs": []
    },
    {
      "cell_type": "code",
      "metadata": {
        "id": "DuHmcBZrWk8S",
        "colab_type": "code",
        "colab": {
          "base_uri": "https://localhost:8080/",
          "height": 34
        },
        "outputId": "a3432522-cf48-4745-ad76-4438f11df6c1"
      },
      "source": [
        "#How many crimes involve an arrest\n",
        "np.array(df3)"
      ],
      "execution_count": null,
      "outputs": [
        {
          "output_type": "execute_result",
          "data": {
            "text/plain": [
              "array([[163.]])"
            ]
          },
          "metadata": {
            "tags": []
          },
          "execution_count": 30
        }
      ]
    },
    {
      "cell_type": "code",
      "metadata": {
        "id": "WqGYYiPYXcMC",
        "colab_type": "code",
        "colab": {}
      },
      "source": [
        "selectQuery4 = \"select distinct PRIMARY_TYPE from CRIME where LOCATION_DESCRIPTION = 'GAS STATION'\"\n",
        "df4 = pd.read_sql(selectQuery4, pconn1)"
      ],
      "execution_count": null,
      "outputs": []
    },
    {
      "cell_type": "code",
      "metadata": {
        "id": "Xv3rzQEHYKIO",
        "colab_type": "code",
        "colab": {
          "base_uri": "https://localhost:8080/",
          "height": 166
        },
        "outputId": "4278cafa-77d1-4b17-b881-9e0fab20ff3f"
      },
      "source": [
        "# Which unique types of crimes have been recorded at a GAS STATION?\n",
        "df4"
      ],
      "execution_count": null,
      "outputs": [
        {
          "output_type": "execute_result",
          "data": {
            "text/html": [
              "<div>\n",
              "<style scoped>\n",
              "    .dataframe tbody tr th:only-of-type {\n",
              "        vertical-align: middle;\n",
              "    }\n",
              "\n",
              "    .dataframe tbody tr th {\n",
              "        vertical-align: top;\n",
              "    }\n",
              "\n",
              "    .dataframe thead th {\n",
              "        text-align: right;\n",
              "    }\n",
              "</style>\n",
              "<table border=\"1\" class=\"dataframe\">\n",
              "  <thead>\n",
              "    <tr style=\"text-align: right;\">\n",
              "      <th></th>\n",
              "      <th>PRIMARY_TYPE</th>\n",
              "    </tr>\n",
              "  </thead>\n",
              "  <tbody>\n",
              "    <tr>\n",
              "      <th>0</th>\n",
              "      <td>CRIMINAL TRESPASS</td>\n",
              "    </tr>\n",
              "    <tr>\n",
              "      <th>1</th>\n",
              "      <td>NARCOTICS</td>\n",
              "    </tr>\n",
              "    <tr>\n",
              "      <th>2</th>\n",
              "      <td>ROBBERY</td>\n",
              "    </tr>\n",
              "    <tr>\n",
              "      <th>3</th>\n",
              "      <td>THEFT</td>\n",
              "    </tr>\n",
              "  </tbody>\n",
              "</table>\n",
              "</div>"
            ],
            "text/plain": [
              "        PRIMARY_TYPE\n",
              "0  CRIMINAL TRESPASS\n",
              "1          NARCOTICS\n",
              "2            ROBBERY\n",
              "3              THEFT"
            ]
          },
          "metadata": {
            "tags": []
          },
          "execution_count": 32
        }
      ]
    },
    {
      "cell_type": "code",
      "metadata": {
        "id": "01-S38r9Y2Dh",
        "colab_type": "code",
        "colab": {}
      },
      "source": [
        "selectQuery5 = \"select COMMUNITY_AREA_NAME from CENSUS where COMMUNITY_AREA_NAME like 'B%'\"\n",
        "df5 = pd.read_sql(selectQuery5, pconn1)"
      ],
      "execution_count": null,
      "outputs": []
    },
    {
      "cell_type": "code",
      "metadata": {
        "id": "YTT4OzaZZNuB",
        "colab_type": "code",
        "colab": {
          "base_uri": "https://localhost:8080/",
          "height": 195
        },
        "outputId": "8b4cdc12-5704-4e21-feab-9467d6c784e0"
      },
      "source": [
        "#In the CENUS_DATA table list all community areas whose names start with the letter ‘B’\n",
        "df5"
      ],
      "execution_count": null,
      "outputs": [
        {
          "output_type": "execute_result",
          "data": {
            "text/html": [
              "<div>\n",
              "<style scoped>\n",
              "    .dataframe tbody tr th:only-of-type {\n",
              "        vertical-align: middle;\n",
              "    }\n",
              "\n",
              "    .dataframe tbody tr th {\n",
              "        vertical-align: top;\n",
              "    }\n",
              "\n",
              "    .dataframe thead th {\n",
              "        text-align: right;\n",
              "    }\n",
              "</style>\n",
              "<table border=\"1\" class=\"dataframe\">\n",
              "  <thead>\n",
              "    <tr style=\"text-align: right;\">\n",
              "      <th></th>\n",
              "      <th>COMMUNITY_AREA_NAME</th>\n",
              "    </tr>\n",
              "  </thead>\n",
              "  <tbody>\n",
              "    <tr>\n",
              "      <th>0</th>\n",
              "      <td>Belmont Cragin</td>\n",
              "    </tr>\n",
              "    <tr>\n",
              "      <th>1</th>\n",
              "      <td>Burnside</td>\n",
              "    </tr>\n",
              "    <tr>\n",
              "      <th>2</th>\n",
              "      <td>Brighton Park</td>\n",
              "    </tr>\n",
              "    <tr>\n",
              "      <th>3</th>\n",
              "      <td>Bridgeport</td>\n",
              "    </tr>\n",
              "    <tr>\n",
              "      <th>4</th>\n",
              "      <td>Beverly</td>\n",
              "    </tr>\n",
              "  </tbody>\n",
              "</table>\n",
              "</div>"
            ],
            "text/plain": [
              "  COMMUNITY_AREA_NAME\n",
              "0      Belmont Cragin\n",
              "1            Burnside\n",
              "2       Brighton Park\n",
              "3          Bridgeport\n",
              "4             Beverly"
            ]
          },
          "metadata": {
            "tags": []
          },
          "execution_count": 34
        }
      ]
    },
    {
      "cell_type": "code",
      "metadata": {
        "id": "Mcs7HmIdZqAY",
        "colab_type": "code",
        "colab": {}
      },
      "source": [
        "selectQuery6 = \"select NAME_OF_SCHOOL from \\\n",
        "(select NAME_OF_SCHOOL, HEALTHY_SCHOOL_CERTIFIED, COMMUNITY_AREA_NUMBER from PUBLICSCHOOL where COMMUNITY_AREA_NUMBER between 10 and 15 and HEALTHY_SCHOOL_CERTIFIED = 'Yes')\"\n",
        "\n",
        "df6 = pd.read_sql(selectQuery7, pconn1)"
      ],
      "execution_count": null,
      "outputs": []
    },
    {
      "cell_type": "code",
      "metadata": {
        "id": "nmgoC17hqBUM",
        "colab_type": "code",
        "colab": {
          "base_uri": "https://localhost:8080/",
          "height": 77
        },
        "outputId": "b56d9ac0-aa2d-411f-9eb2-2b3427098903"
      },
      "source": [
        "#List the schools in Community Areas 10 to 15 that are healthy school certified?\n",
        "df6"
      ],
      "execution_count": null,
      "outputs": [
        {
          "output_type": "execute_result",
          "data": {
            "text/html": [
              "<div>\n",
              "<style scoped>\n",
              "    .dataframe tbody tr th:only-of-type {\n",
              "        vertical-align: middle;\n",
              "    }\n",
              "\n",
              "    .dataframe tbody tr th {\n",
              "        vertical-align: top;\n",
              "    }\n",
              "\n",
              "    .dataframe thead th {\n",
              "        text-align: right;\n",
              "    }\n",
              "</style>\n",
              "<table border=\"1\" class=\"dataframe\">\n",
              "  <thead>\n",
              "    <tr style=\"text-align: right;\">\n",
              "      <th></th>\n",
              "      <th>NAME_OF_SCHOOL</th>\n",
              "    </tr>\n",
              "  </thead>\n",
              "  <tbody>\n",
              "    <tr>\n",
              "      <th>0</th>\n",
              "      <td>Rufus M Hitch Elementary School</td>\n",
              "    </tr>\n",
              "  </tbody>\n",
              "</table>\n",
              "</div>"
            ],
            "text/plain": [
              "                    NAME_OF_SCHOOL\n",
              "0  Rufus M Hitch Elementary School"
            ]
          },
          "metadata": {
            "tags": []
          },
          "execution_count": 23
        }
      ]
    },
    {
      "cell_type": "code",
      "metadata": {
        "id": "g_thxqEit8ik",
        "colab_type": "code",
        "colab": {}
      },
      "source": [
        "selectQuery7 = \"select avg(SAFETY_SCORE) from PUBLICSCHOOL\"\n",
        "df7 = pd.read_sql(selectQuery7, pconn1)"
      ],
      "execution_count": null,
      "outputs": []
    },
    {
      "cell_type": "code",
      "metadata": {
        "id": "alVc8VXwuoil",
        "colab_type": "code",
        "colab": {
          "base_uri": "https://localhost:8080/",
          "height": 34
        },
        "outputId": "d03c9424-1a05-48a9-8125-0a9a86e3d010"
      },
      "source": [
        "#What is the average school Safety Score?\n",
        "np.array(df7)"
      ],
      "execution_count": null,
      "outputs": [
        {
          "output_type": "execute_result",
          "data": {
            "text/plain": [
              "array([[49.504873]])"
            ]
          },
          "metadata": {
            "tags": []
          },
          "execution_count": 26
        }
      ]
    },
    {
      "cell_type": "code",
      "metadata": {
        "id": "YsJZ_917vKJR",
        "colab_type": "code",
        "colab": {}
      },
      "source": [
        "selectQuery = \"select COMMUNITY_AREA_NAME, COLLEGE_ENROLLMENT as number_of_students from PUBLICSCHOOL \\\n",
        "order by number_of_students desc fetch first 5 rows only\"\n",
        "df= pd.read_sql(selectQuery, pconn1)"
      ],
      "execution_count": null,
      "outputs": []
    },
    {
      "cell_type": "code",
      "metadata": {
        "id": "B1wJKEzAyzOV",
        "colab_type": "code",
        "colab": {
          "base_uri": "https://localhost:8080/",
          "height": 195
        },
        "outputId": "b794debf-f18f-4c89-a9ec-44b71c3b49e4"
      },
      "source": [
        "df"
      ],
      "execution_count": null,
      "outputs": [
        {
          "output_type": "execute_result",
          "data": {
            "text/html": [
              "<div>\n",
              "<style scoped>\n",
              "    .dataframe tbody tr th:only-of-type {\n",
              "        vertical-align: middle;\n",
              "    }\n",
              "\n",
              "    .dataframe tbody tr th {\n",
              "        vertical-align: top;\n",
              "    }\n",
              "\n",
              "    .dataframe thead th {\n",
              "        text-align: right;\n",
              "    }\n",
              "</style>\n",
              "<table border=\"1\" class=\"dataframe\">\n",
              "  <thead>\n",
              "    <tr style=\"text-align: right;\">\n",
              "      <th></th>\n",
              "      <th>COMMUNITY_AREA_NAME</th>\n",
              "      <th>NUMBER_OF_STUDENTS</th>\n",
              "    </tr>\n",
              "  </thead>\n",
              "  <tbody>\n",
              "    <tr>\n",
              "      <th>0</th>\n",
              "      <td>NORTH CENTER</td>\n",
              "      <td>4368</td>\n",
              "    </tr>\n",
              "    <tr>\n",
              "      <th>1</th>\n",
              "      <td>ARCHER HEIGHTS</td>\n",
              "      <td>3320</td>\n",
              "    </tr>\n",
              "    <tr>\n",
              "      <th>2</th>\n",
              "      <td>NORWOOD PARK</td>\n",
              "      <td>2922</td>\n",
              "    </tr>\n",
              "    <tr>\n",
              "      <th>3</th>\n",
              "      <td>BRIGHTON PARK</td>\n",
              "      <td>2883</td>\n",
              "    </tr>\n",
              "    <tr>\n",
              "      <th>4</th>\n",
              "      <td>IRVING PARK</td>\n",
              "      <td>2366</td>\n",
              "    </tr>\n",
              "  </tbody>\n",
              "</table>\n",
              "</div>"
            ],
            "text/plain": [
              "  COMMUNITY_AREA_NAME  NUMBER_OF_STUDENTS\n",
              "0        NORTH CENTER                4368\n",
              "1      ARCHER HEIGHTS                3320\n",
              "2        NORWOOD PARK                2922\n",
              "3       BRIGHTON PARK                2883\n",
              "4         IRVING PARK                2366"
            ]
          },
          "metadata": {
            "tags": []
          },
          "execution_count": 74
        }
      ]
    },
    {
      "cell_type": "code",
      "metadata": {
        "id": "mP6kAXEc8FRQ",
        "colab_type": "code",
        "colab": {}
      },
      "source": [
        "selectQuery8 = \"select COMMUNITY_AREA_NAME from CENSUS \\\n",
        "where COMMUNITY_AREA_NUMBER = \\\n",
        "(select COMMUNITY_AREA_NUMBER from PUBLICSCHOOL order by SAFETY_SCORE limit 1)\"\n",
        "df8 = pd.read_sql(selectQuery8, pconn1)"
      ],
      "execution_count": null,
      "outputs": []
    },
    {
      "cell_type": "code",
      "metadata": {
        "id": "_-5tCRHp8MS8",
        "colab_type": "code",
        "colab": {
          "base_uri": "https://localhost:8080/",
          "height": 77
        },
        "outputId": "5f1be072-f82d-4f23-fc64-5412a0b13999"
      },
      "source": [
        "# Use a sub-query to determine which Community Area has the least value for Safety Score?\n",
        "df8"
      ],
      "execution_count": null,
      "outputs": [
        {
          "output_type": "execute_result",
          "data": {
            "text/html": [
              "<div>\n",
              "<style scoped>\n",
              "    .dataframe tbody tr th:only-of-type {\n",
              "        vertical-align: middle;\n",
              "    }\n",
              "\n",
              "    .dataframe tbody tr th {\n",
              "        vertical-align: top;\n",
              "    }\n",
              "\n",
              "    .dataframe thead th {\n",
              "        text-align: right;\n",
              "    }\n",
              "</style>\n",
              "<table border=\"1\" class=\"dataframe\">\n",
              "  <thead>\n",
              "    <tr style=\"text-align: right;\">\n",
              "      <th></th>\n",
              "      <th>COMMUNITY_AREA_NAME</th>\n",
              "    </tr>\n",
              "  </thead>\n",
              "  <tbody>\n",
              "    <tr>\n",
              "      <th>0</th>\n",
              "      <td>Washington Park</td>\n",
              "    </tr>\n",
              "  </tbody>\n",
              "</table>\n",
              "</div>"
            ],
            "text/plain": [
              "  COMMUNITY_AREA_NAME\n",
              "0     Washington Park"
            ]
          },
          "metadata": {
            "tags": []
          },
          "execution_count": 97
        }
      ]
    },
    {
      "cell_type": "code",
      "metadata": {
        "id": "3haNkNh6BQGj",
        "colab_type": "code",
        "colab": {}
      },
      "source": [
        "selectQuery9 = \"select PER_CAPITA_INCOME, COMMUNITY_AREA_NAME from CENSUS \\\n",
        "where COMMUNITY_AREA_NUMBER = \\\n",
        "(select COMMUNITY_AREA_NUMBER from PUBLICSCHOOL \\\n",
        "where SAFETY_SCORE = 1)\"\n",
        "df9 = pd.read_sql(selectQuery9, pconn1)"
      ],
      "execution_count": null,
      "outputs": []
    },
    {
      "cell_type": "code",
      "metadata": {
        "id": "JFPps3fyBg2h",
        "colab_type": "code",
        "colab": {
          "base_uri": "https://localhost:8080/",
          "height": 77
        },
        "outputId": "ad8c3ebd-fcc4-4da5-e712-25f6cfd6cfb6"
      },
      "source": [
        "#Find the Per Capita Income of the Community Area which has a school Safety Score of 1\n",
        "df9"
      ],
      "execution_count": null,
      "outputs": [
        {
          "output_type": "execute_result",
          "data": {
            "text/html": [
              "<div>\n",
              "<style scoped>\n",
              "    .dataframe tbody tr th:only-of-type {\n",
              "        vertical-align: middle;\n",
              "    }\n",
              "\n",
              "    .dataframe tbody tr th {\n",
              "        vertical-align: top;\n",
              "    }\n",
              "\n",
              "    .dataframe thead th {\n",
              "        text-align: right;\n",
              "    }\n",
              "</style>\n",
              "<table border=\"1\" class=\"dataframe\">\n",
              "  <thead>\n",
              "    <tr style=\"text-align: right;\">\n",
              "      <th></th>\n",
              "      <th>PER_CAPITA_INCOME</th>\n",
              "      <th>COMMUNITY_AREA_NAME</th>\n",
              "    </tr>\n",
              "  </thead>\n",
              "  <tbody>\n",
              "    <tr>\n",
              "      <th>0</th>\n",
              "      <td>13785</td>\n",
              "      <td>Washington Park</td>\n",
              "    </tr>\n",
              "  </tbody>\n",
              "</table>\n",
              "</div>"
            ],
            "text/plain": [
              "   PER_CAPITA_INCOME COMMUNITY_AREA_NAME\n",
              "0              13785     Washington Park"
            ]
          },
          "metadata": {
            "tags": []
          },
          "execution_count": 106
        }
      ]
    },
    {
      "cell_type": "code",
      "metadata": {
        "id": "_JplejWFD_7o",
        "colab_type": "code",
        "colab": {}
      },
      "source": [
        "selectQuery8 = \"select COMMUNITY_AREA_NAME , COLLEGE_ENROLLMENT from PUBLICSCHOOL order by COLLEGE_ENROLLMENT desc LIMIT 5 \"\n",
        "df8 = pd.read_sql(selectQuery, pconn1)"
      ],
      "execution_count": null,
      "outputs": []
    },
    {
      "cell_type": "code",
      "metadata": {
        "id": "EbY5y5Z8EWNL",
        "colab_type": "code",
        "colab": {
          "base_uri": "https://localhost:8080/",
          "height": 195
        },
        "outputId": "0946c452-e395-4013-c50f-7a45126a6f45"
      },
      "source": [
        "#List the top 5 Community Areas by average College Enrollments [number of students]\n",
        "df8"
      ],
      "execution_count": null,
      "outputs": [
        {
          "output_type": "execute_result",
          "data": {
            "text/html": [
              "<div>\n",
              "<style scoped>\n",
              "    .dataframe tbody tr th:only-of-type {\n",
              "        vertical-align: middle;\n",
              "    }\n",
              "\n",
              "    .dataframe tbody tr th {\n",
              "        vertical-align: top;\n",
              "    }\n",
              "\n",
              "    .dataframe thead th {\n",
              "        text-align: right;\n",
              "    }\n",
              "</style>\n",
              "<table border=\"1\" class=\"dataframe\">\n",
              "  <thead>\n",
              "    <tr style=\"text-align: right;\">\n",
              "      <th></th>\n",
              "      <th>COMMUNITY_AREA_NAME</th>\n",
              "      <th>COLLEGE_ENROLLMENT</th>\n",
              "    </tr>\n",
              "  </thead>\n",
              "  <tbody>\n",
              "    <tr>\n",
              "      <th>0</th>\n",
              "      <td>NORTH CENTER</td>\n",
              "      <td>4368</td>\n",
              "    </tr>\n",
              "    <tr>\n",
              "      <th>1</th>\n",
              "      <td>ARCHER HEIGHTS</td>\n",
              "      <td>3320</td>\n",
              "    </tr>\n",
              "    <tr>\n",
              "      <th>2</th>\n",
              "      <td>NORWOOD PARK</td>\n",
              "      <td>2922</td>\n",
              "    </tr>\n",
              "    <tr>\n",
              "      <th>3</th>\n",
              "      <td>BRIGHTON PARK</td>\n",
              "      <td>2883</td>\n",
              "    </tr>\n",
              "    <tr>\n",
              "      <th>4</th>\n",
              "      <td>IRVING PARK</td>\n",
              "      <td>2366</td>\n",
              "    </tr>\n",
              "  </tbody>\n",
              "</table>\n",
              "</div>"
            ],
            "text/plain": [
              "  COMMUNITY_AREA_NAME  COLLEGE_ENROLLMENT\n",
              "0        NORTH CENTER                4368\n",
              "1      ARCHER HEIGHTS                3320\n",
              "2        NORWOOD PARK                2922\n",
              "3       BRIGHTON PARK                2883\n",
              "4         IRVING PARK                2366"
            ]
          },
          "metadata": {
            "tags": []
          },
          "execution_count": 115
        }
      ]
    }
  ]
}